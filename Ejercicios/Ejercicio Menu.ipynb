{
 "cells": [
  {
   "cell_type": "code",
   "execution_count": 21,
   "id": "e78b5a9a-60c3-4b5f-9db9-75ab17cc4dd7",
   "metadata": {},
   "outputs": [
    {
     "name": "stdout",
     "output_type": "stream",
     "text": [
      "¡Bienvenido usuario! Por favor seleccione una de las opciones.\n",
      "1.- Pintar cuadrado.\n",
      "2.- Validar email.\n",
      "3.- Insertar alumnos.\n",
      "4.- Salir.\n"
     ]
    },
    {
     "name": "stdin",
     "output_type": "stream",
     "text": [
      "Escriba del 1 al 4 para seleccionar. 4\n"
     ]
    },
    {
     "name": "stdout",
     "output_type": "stream",
     "text": [
      "Has seleccionado la opcion 3.¡Adios!\n"
     ]
    }
   ],
   "source": [
    "##Variable para controlar si sigue vivo el bucle while o se ha cerrado\n",
    "alive= True\n",
    "\n",
    "while(alive):\n",
    "    print(\"¡Bienvenido usuario! Por favor seleccione una de las opciones.\")\n",
    "    print(\"1.- Pintar cuadrado.\")\n",
    "    print(\"2.- Validar email.\")\n",
    "    print(\"3.- Insertar alumnos.\")\n",
    "    print(\"4.- Salir.\")\n",
    "    selection= input(\"Escriba del 1 al 4 para seleccionar.\")\n",
    "    if(selection==\"1\"):\n",
    "        print(\"Has seleccionado la opcion 1.\")\n",
    "    if(selection==\"2\"):\n",
    "        print(\"Has seleccionado la opcion 2.\")\n",
    "    if(selection==\"3\"):\n",
    "        print(\"Has seleccionado la opcion 3.\")\n",
    "    if(selection==\"4\"):\n",
    "        alive= False\n",
    "        print(\"Has seleccionado la opcion 4.¡Adios!\")\n",
    "    if(selection!=\"1\" and selection!=\"2\" and selection!=\"3\" and selection!=\"4\"):\n",
    "        print(\"Seleccion \"+selection+\" no existe por favor intentelo de nuevo\")\n",
    "    \n",
    "    "
   ]
  },
  {
   "cell_type": "code",
   "execution_count": null,
   "id": "4e3d7ab2-73d3-4d36-9cb9-044f5afa5a40",
   "metadata": {},
   "outputs": [],
   "source": []
  }
 ],
 "metadata": {
  "kernelspec": {
   "display_name": "Python 3 (ipykernel)",
   "language": "python",
   "name": "python3"
  },
  "language_info": {
   "codemirror_mode": {
    "name": "ipython",
    "version": 3
   },
   "file_extension": ".py",
   "mimetype": "text/x-python",
   "name": "python",
   "nbconvert_exporter": "python",
   "pygments_lexer": "ipython3",
   "version": "3.9.13"
  }
 },
 "nbformat": 4,
 "nbformat_minor": 5
}
