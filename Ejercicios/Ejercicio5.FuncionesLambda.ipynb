{
 "cells": [
  {
   "cell_type": "markdown",
   "metadata": {},
   "source": [
    "## Ejercicio5. Funciones Lambda"
   ]
  },
  {
   "cell_type": "markdown",
   "metadata": {},
   "source": [
    "A partir del siguiente listado de emails:\n",
    "lista_emails = [\"asdasdas.es\",\"asdas asdsdsa@sda.e\",\"asdasd@asdas@asdsad.es\", \"asdad@a.es\", \"a sgsdfsd@a.esfa.sfasdf\", \"asdas.dasd@as.dsfd.as.es \"]\n",
    "- obtener, los nombres de usuario de aquellos emails que sean validos (valido: 1@, no tiene espacios en blanco, despues de la @ hay 1 punto)\n",
    "- indicar el número de emails validos que hay dentro del listado\n"
   ]
  },
  {
   "cell_type": "code",
   "execution_count": 4,
   "metadata": {},
   "outputs": [],
   "source": [
    "lista_emails = [\"asdasdas.es\",\"asdas asdsdsa@sda.e\",\"asdasd@asdas@asdsad.es\", \"asdad@a.es\", \"a sgsdfsd@a.esfa.sfasdf\", \"asdas.dasd@as.dsfd.as.es \"]"
   ]
  },
  {
   "cell_type": "code",
   "execution_count": 17,
   "metadata": {},
   "outputs": [],
   "source": [
    "#Funcion pricipal para verificar emails pedimos una lista de emails\n",
    "def verificar_emails(lista):\n",
    "    #Funciones lambda para que sean las condiciones de nuestro filtro\n",
    "    condicion_arroba = lambda x: x.count(\"@\")==1\n",
    "    condicion_blancos = lambda x: x.strip().count(\" \")==0\n",
    "    condicion_punto_despues_de_arroba = lambda x: False if x.count(\"@\")!=1 else x.split(\"@\")[1].count(\".\")==1\n",
    "    #Usamos un filter para cada condicion anidandolos para sacar la lista definitiva y sobreescribimos la lista original.\n",
    "    lista= list(filter(condicion_punto_despues_de_arroba, filter(condicion_blancos, filter(condicion_blancos, lista))))\n",
    "    #Un lambda para crear los usuarios\n",
    "    usuario= lambda x: x.split(\"@\")[0]\n",
    "    #Al crear un map con la operacion lambda y la lista y hacer list nos quedamos con el resultado de la operacion lambda\n",
    "    lista_nombre_usuarios =  list(map(usuario, lista))\n",
    "    #[(usuario)(correo) for correo in lista]\n",
    "    #Retornamos la longitud de la lista de correos validos y la lista de nombres de usuarios \n",
    "    return len(lista), lista_nombre_usuarios"
   ]
  },
  {
   "cell_type": "code",
   "execution_count": 18,
   "metadata": {},
   "outputs": [
    {
     "name": "stdout",
     "output_type": "stream",
     "text": [
      "(1, ['asdad'])\n"
     ]
    }
   ],
   "source": [
    "print(verificar_emails(lista_emails))"
   ]
  },
  {
   "cell_type": "code",
   "execution_count": 86,
   "metadata": {},
   "outputs": [
    {
     "name": "stdout",
     "output_type": "stream",
     "text": [
      "False\n"
     ]
    }
   ],
   "source": [
    "\n",
    "condicion_arroba = lambda x: x.count(\"@\")==1\n",
    "condicion_blancos = lambda x: x.strip().count(\" \")==0\n",
    "condicion_punto_despues_de_arroba = lambda x: False if x.count(\"@\")!=1 else x.split(\"@\")[1].count(\".\")==1\n",
    "\n",
    "x= \"asdas asdsdsa@sda.e\"\n",
    "print(condicion_arroba(x) and condicion_blancos(x) and condicion_punto_despues_de_arroba(x))"
   ]
  },
  {
   "cell_type": "code",
   "execution_count": null,
   "metadata": {},
   "outputs": [],
   "source": []
  }
 ],
 "metadata": {
  "kernelspec": {
   "display_name": "Python 3 (ipykernel)",
   "language": "python",
   "name": "python3"
  },
  "language_info": {
   "codemirror_mode": {
    "name": "ipython",
    "version": 3
   },
   "file_extension": ".py",
   "mimetype": "text/x-python",
   "name": "python",
   "nbconvert_exporter": "python",
   "pygments_lexer": "ipython3",
   "version": "3.9.13"
  }
 },
 "nbformat": 4,
 "nbformat_minor": 4
}
