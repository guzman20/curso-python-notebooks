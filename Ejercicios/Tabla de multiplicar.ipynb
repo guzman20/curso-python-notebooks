{
 "cells": [
  {
   "cell_type": "code",
   "execution_count": 1,
   "id": "d214cc6b-d8a5-4d49-8eb4-5c5872a21b40",
   "metadata": {},
   "outputs": [
    {
     "name": "stdin",
     "output_type": "stream",
     "text": [
      "Inserte un numero 100\n"
     ]
    },
    {
     "name": "stdout",
     "output_type": "stream",
     "text": [
      "100 * 0 = 0\n",
      "100 * 1 = 100\n",
      "100 * 2 = 200\n",
      "100 * 3 = 300\n",
      "100 * 4 = 400\n",
      "100 * 5 = 500\n",
      "100 * 6 = 600\n",
      "100 * 7 = 700\n",
      "100 * 8 = 800\n",
      "100 * 9 = 900\n"
     ]
    }
   ],
   "source": [
    "def dibujar_tabla_de_multiplicar():\n",
    "    num= int(input(\"Inserte un numero\"))\n",
    "    for i in range(10):\n",
    "        print(\"{} * {} = {}\".format(num, i,num*i))\n",
    "dibujar_tabla_de_multiplicar()"
   ]
  },
  {
   "cell_type": "code",
   "execution_count": null,
   "id": "75eb6724-85a4-459e-923d-05bb1a55f59b",
   "metadata": {},
   "outputs": [],
   "source": []
  }
 ],
 "metadata": {
  "kernelspec": {
   "display_name": "Python 3 (ipykernel)",
   "language": "python",
   "name": "python3"
  },
  "language_info": {
   "codemirror_mode": {
    "name": "ipython",
    "version": 3
   },
   "file_extension": ".py",
   "mimetype": "text/x-python",
   "name": "python",
   "nbconvert_exporter": "python",
   "pygments_lexer": "ipython3",
   "version": "3.9.13"
  }
 },
 "nbformat": 4,
 "nbformat_minor": 5
}
