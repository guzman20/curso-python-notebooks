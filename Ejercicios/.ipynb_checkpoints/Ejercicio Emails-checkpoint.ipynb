{
 "cells": [
  {
   "cell_type": "code",
   "execution_count": 13,
   "id": "7cb22ee9-285f-4d36-9f6f-f53d96595d6d",
   "metadata": {},
   "outputs": [
    {
     "name": "stdout",
     "output_type": "stream",
     "text": [
      "¡Bienvenido usuario! Por favor seleccione una de las opciones.\n",
      "1.- Pintar cuadrado.\n",
      "2.- Validar email.\n",
      "3.- Insertar alumnos.\n",
      "4.- Salir.\n"
     ]
    },
    {
     "name": "stdin",
     "output_type": "stream",
     "text": [
      "Escriba del 1 al 4 para seleccionar. 2\n"
     ]
    },
    {
     "name": "stdout",
     "output_type": "stream",
     "text": [
      "Error el email lolahola.com no es correcto no contiene el @\n",
      "Error el email roberto@holacom no es correcto no contiene . despues del @\n",
      "Error el email roberto@holacom no es correcto contiene menos de 2 caracteres o mas de 5 caracteres despues del . final\n",
      "Error el email alfredo@h.com no es correcto contiene menos de 2 caracteres entre el @ y el . final\n",
      "Error el email Maria@hola.c no es correcto contiene menos de 2 caracteres o mas de 5 caracteres despues del . final\n",
      "¡Bienvenido usuario! Por favor seleccione una de las opciones.\n",
      "1.- Pintar cuadrado.\n",
      "2.- Validar email.\n",
      "3.- Insertar alumnos.\n",
      "4.- Salir.\n"
     ]
    },
    {
     "ename": "KeyboardInterrupt",
     "evalue": "Interrupted by user",
     "output_type": "error",
     "traceback": [
      "\u001b[1;31m---------------------------------------------------------------------------\u001b[0m",
      "\u001b[1;31mKeyboardInterrupt\u001b[0m                         Traceback (most recent call last)",
      "\u001b[1;32m~\\AppData\\Local\\Temp\\ipykernel_10068\\1747706487.py\u001b[0m in \u001b[0;36m<module>\u001b[1;34m\u001b[0m\n\u001b[0;32m      8\u001b[0m     \u001b[0mprint\u001b[0m\u001b[1;33m(\u001b[0m\u001b[1;34m\"3.- Insertar alumnos.\"\u001b[0m\u001b[1;33m)\u001b[0m\u001b[1;33m\u001b[0m\u001b[1;33m\u001b[0m\u001b[0m\n\u001b[0;32m      9\u001b[0m     \u001b[0mprint\u001b[0m\u001b[1;33m(\u001b[0m\u001b[1;34m\"4.- Salir.\"\u001b[0m\u001b[1;33m)\u001b[0m\u001b[1;33m\u001b[0m\u001b[1;33m\u001b[0m\u001b[0m\n\u001b[1;32m---> 10\u001b[1;33m     \u001b[0mselection\u001b[0m\u001b[1;33m=\u001b[0m \u001b[0minput\u001b[0m\u001b[1;33m(\u001b[0m\u001b[1;34m\"Escriba del 1 al 4 para seleccionar.\"\u001b[0m\u001b[1;33m)\u001b[0m\u001b[1;33m\u001b[0m\u001b[1;33m\u001b[0m\u001b[0m\n\u001b[0m\u001b[0;32m     11\u001b[0m     \u001b[1;32mif\u001b[0m\u001b[1;33m(\u001b[0m\u001b[0mselection\u001b[0m\u001b[1;33m==\u001b[0m\u001b[1;34m\"1\"\u001b[0m\u001b[1;33m)\u001b[0m\u001b[1;33m:\u001b[0m\u001b[1;33m\u001b[0m\u001b[1;33m\u001b[0m\u001b[0m\n\u001b[0;32m     12\u001b[0m         \u001b[0mprint\u001b[0m\u001b[1;33m(\u001b[0m\u001b[1;34m\"Has seleccionado la opcion 1.\"\u001b[0m\u001b[1;33m)\u001b[0m\u001b[1;33m\u001b[0m\u001b[1;33m\u001b[0m\u001b[0m\n",
      "\u001b[1;32mD:\\anaconda3\\lib\\site-packages\\ipykernel\\kernelbase.py\u001b[0m in \u001b[0;36mraw_input\u001b[1;34m(self, prompt)\u001b[0m\n\u001b[0;32m   1175\u001b[0m                 \u001b[1;34m\"raw_input was called, but this frontend does not support input requests.\"\u001b[0m\u001b[1;33m\u001b[0m\u001b[1;33m\u001b[0m\u001b[0m\n\u001b[0;32m   1176\u001b[0m             )\n\u001b[1;32m-> 1177\u001b[1;33m         return self._input_request(\n\u001b[0m\u001b[0;32m   1178\u001b[0m             \u001b[0mstr\u001b[0m\u001b[1;33m(\u001b[0m\u001b[0mprompt\u001b[0m\u001b[1;33m)\u001b[0m\u001b[1;33m,\u001b[0m\u001b[1;33m\u001b[0m\u001b[1;33m\u001b[0m\u001b[0m\n\u001b[0;32m   1179\u001b[0m             \u001b[0mself\u001b[0m\u001b[1;33m.\u001b[0m\u001b[0m_parent_ident\u001b[0m\u001b[1;33m[\u001b[0m\u001b[1;34m\"shell\"\u001b[0m\u001b[1;33m]\u001b[0m\u001b[1;33m,\u001b[0m\u001b[1;33m\u001b[0m\u001b[1;33m\u001b[0m\u001b[0m\n",
      "\u001b[1;32mD:\\anaconda3\\lib\\site-packages\\ipykernel\\kernelbase.py\u001b[0m in \u001b[0;36m_input_request\u001b[1;34m(self, prompt, ident, parent, password)\u001b[0m\n\u001b[0;32m   1217\u001b[0m             \u001b[1;32mexcept\u001b[0m \u001b[0mKeyboardInterrupt\u001b[0m\u001b[1;33m:\u001b[0m\u001b[1;33m\u001b[0m\u001b[1;33m\u001b[0m\u001b[0m\n\u001b[0;32m   1218\u001b[0m                 \u001b[1;31m# re-raise KeyboardInterrupt, to truncate traceback\u001b[0m\u001b[1;33m\u001b[0m\u001b[1;33m\u001b[0m\u001b[0m\n\u001b[1;32m-> 1219\u001b[1;33m                 \u001b[1;32mraise\u001b[0m \u001b[0mKeyboardInterrupt\u001b[0m\u001b[1;33m(\u001b[0m\u001b[1;34m\"Interrupted by user\"\u001b[0m\u001b[1;33m)\u001b[0m \u001b[1;32mfrom\u001b[0m \u001b[1;32mNone\u001b[0m\u001b[1;33m\u001b[0m\u001b[1;33m\u001b[0m\u001b[0m\n\u001b[0m\u001b[0;32m   1220\u001b[0m             \u001b[1;32mexcept\u001b[0m \u001b[0mException\u001b[0m\u001b[1;33m:\u001b[0m\u001b[1;33m\u001b[0m\u001b[1;33m\u001b[0m\u001b[0m\n\u001b[0;32m   1221\u001b[0m                 \u001b[0mself\u001b[0m\u001b[1;33m.\u001b[0m\u001b[0mlog\u001b[0m\u001b[1;33m.\u001b[0m\u001b[0mwarning\u001b[0m\u001b[1;33m(\u001b[0m\u001b[1;34m\"Invalid Message:\"\u001b[0m\u001b[1;33m,\u001b[0m \u001b[0mexc_info\u001b[0m\u001b[1;33m=\u001b[0m\u001b[1;32mTrue\u001b[0m\u001b[1;33m)\u001b[0m\u001b[1;33m\u001b[0m\u001b[1;33m\u001b[0m\u001b[0m\n",
      "\u001b[1;31mKeyboardInterrupt\u001b[0m: Interrupted by user"
     ]
    }
   ],
   "source": [
    "##Variable para controlar si sigue vivo el bucle while o se ha cerrado\n",
    "alive= True\n",
    "\n",
    "while(alive):\n",
    "    print(\"¡Bienvenido usuario! Por favor seleccione una de las opciones.\")\n",
    "    print(\"1.- Pintar cuadrado.\")\n",
    "    print(\"2.- Validar email.\")\n",
    "    print(\"3.- Insertar alumnos.\")\n",
    "    print(\"4.- Salir.\")\n",
    "    selection= input(\"Escriba del 1 al 4 para seleccionar.\")\n",
    "    if(selection==\"1\"):\n",
    "        print(\"Has seleccionado la opcion 1.\")\n",
    "    if(selection==\"2\"):\n",
    "        lista_emails=[\"ma nolito@hola.com\",\"lolahola.com\",\"roberto@holacom\",\"alfredo@h.com\",\"Maria@hola.c\"]\n",
    "        for email in lista_emails:\n",
    "            email= email.strip()\n",
    "            if(email.find(\" \")!=-1):\n",
    "                print(\"Error el email \"+email+\" no es correcto contiene espacios\")\n",
    "            if(email.find(\"@\")==-1):\n",
    "                print(\"Error el email \"+email+\" no es correcto no contiene el @\")\n",
    "            elif(email.split(\"@\")[1].find(\".\")==-1):\n",
    "                print(\"Error el email \"+email+\" no es correcto no contiene . despues del @\")\n",
    "            elif(len((email.split(\"@\")[1]).split(\".\")[0])<2):\n",
    "                print(\"Error el email \"+email+\" no es correcto contiene menos de 2 caracteres entre el @ y el . final\")\n",
    "            if(email.count(\"@\")>1):\n",
    "                print(\"Error el email \"+email+\" no es correcto contiene multiples @\")\n",
    "            if(len(email.split(\".\")[-1])>5 or len(email.split(\".\")[-1])<2):\n",
    "                print(\"Error el email \"+email+\" no es correcto contiene menos de 2 caracteres o mas de 5 caracteres despues del . final\")\n",
    "    if(selection==\"3\"):\n",
    "        print(\"Has seleccionado la opcion 3.\")\n",
    "    if(selection==\"4\"):\n",
    "        alive= False\n",
    "        print(\"Has seleccionado la opcion 4.¡Adios!\")\n",
    "    if(selection!=\"1\" and selection!=\"2\" and selection!=\"3\" and selection!=\"4\"):\n",
    "        print(\"Seleccion \"+selection+\" no existe por favor intentelo de nuevo\")"
   ]
  },
  {
   "cell_type": "code",
   "execution_count": null,
   "id": "f742f5ec-a340-4a8e-9ad5-baa2dfbc95c9",
   "metadata": {},
   "outputs": [],
   "source": []
  }
 ],
 "metadata": {
  "kernelspec": {
   "display_name": "Python 3 (ipykernel)",
   "language": "python",
   "name": "python3"
  },
  "language_info": {
   "codemirror_mode": {
    "name": "ipython",
    "version": 3
   },
   "file_extension": ".py",
   "mimetype": "text/x-python",
   "name": "python",
   "nbconvert_exporter": "python",
   "pygments_lexer": "ipython3",
   "version": "3.9.13"
  }
 },
 "nbformat": 4,
 "nbformat_minor": 5
}
