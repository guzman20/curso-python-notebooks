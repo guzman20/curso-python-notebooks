{
 "cells": [
  {
   "cell_type": "code",
   "execution_count": null,
   "id": "e78b5a9a-60c3-4b5f-9db9-75ab17cc4dd7",
   "metadata": {},
   "outputs": [
    {
     "name": "stdout",
     "output_type": "stream",
     "text": [
      "¡Bienvenido usuario! Por favor seleccione una de las opciones.\n",
      "1.- Pintar cuadrado.\n",
      "2.- Validar email.\n",
      "3.- Insertar alumnos.\n",
      "4.- Salir.\n",
      "\n"
     ]
    },
    {
     "name": "stdin",
     "output_type": "stream",
     "text": [
      "Escriba del 1 al 4 para seleccionar. 1\n",
      "¿De que tamaño va ser el cuadrado? 4\n",
      "¿Que caracter quiere para escribir? A\n"
     ]
    },
    {
     "name": "stdout",
     "output_type": "stream",
     "text": [
      "A A A A \n",
      "A     A\n",
      "A     A\n",
      "A A A A \n",
      "\n",
      "Cuadrado dibujado.\n",
      "\n",
      "A A A A\n",
      "A     A\n",
      "A     A\n",
      "A A A A\n",
      "\n",
      "Cuadrado dibujado.\n",
      "\n",
      "¡Bienvenido usuario! Por favor seleccione una de las opciones.\n",
      "1.- Pintar cuadrado.\n",
      "2.- Validar email.\n",
      "3.- Insertar alumnos.\n",
      "4.- Salir.\n",
      "\n"
     ]
    }
   ],
   "source": [
    "##Variable para controlar si sigue vivo el bucle while o se ha cerrado\n",
    "alive= True\n",
    "\n",
    "while(alive):\n",
    "    ##Imprime el menu\n",
    "    print(\"¡Bienvenido usuario! Por favor seleccione una de las opciones.\")\n",
    "    print(\"1.- Pintar cuadrado.\")\n",
    "    print(\"2.- Validar email.\")\n",
    "    print(\"3.- Insertar alumnos.\")\n",
    "    print(\"4.- Salir.\\n\")\n",
    "    ##Pide la selecion sino es correcta se repite\n",
    "    selection= input(\"Escriba del 1 al 4 para seleccionar.\")\n",
    "    if(selection==\"1\"):\n",
    "        ##Pedimos tamaño y el caracter para crear el cuadrado\n",
    "        size= int(input(\"¿De que tamaño va ser el cuadrado?\"))\n",
    "        caracter= input(\"¿Que caracter quiere para escribir?\")\n",
    "        ##Iniciamos el bucle principal de la creacion del cuadrado usando range para que se recurra el numero de veces de size\n",
    "        for number in range(size):\n",
    "            ##Si es la primera y ultima linea es completa de caracteres asi que se verifica en cual esta\n",
    "            if(number==0 or number==size-1):\n",
    "                ##Se crea otro bucle para imprimir la linea\n",
    "                for number in range(size):\n",
    "                    print(caracter, end=\" \")\n",
    "                print()\n",
    "            ##Si no lo es se crea una linea con dos caracteres uno al inicio y otro al final\n",
    "            else:\n",
    "                print(caracter, end=\" \")\n",
    "                ##Se crea otro bucle para imprimir la linea de espacios\n",
    "                for number in range(size-2):\n",
    "                    print(\" \", end=\" \")\n",
    "                print(caracter)\n",
    "        print(\"\\nCuadrado dibujado.\\n\")\n",
    "        \n",
    "        ##Iniciamos el bucle principal de la creacion del cuadrado usando range para que se recurra el numero de veces de size\n",
    "        for number in range(size):\n",
    "            ##Imprimimos el caracter inicial comun a todas las lineas\n",
    "            print(caracter, end=\" \")\n",
    "            ##Si no es ni la primera o la ultima se imprimen caracteres en blanco\n",
    "            if(number!=0 and number!=size-1):\n",
    "                print(\" \"*(size-1), end=\" \")\n",
    "            ##Si no se crea una linea de caracteres ya que es la ultima o primera\n",
    "            else:\n",
    "                ##Se usa un auz para que hayan espacios en blanco y quede mejor\n",
    "                aux=caracter+\" \"\n",
    "                print(aux*(size-2), end=\"\")\n",
    "            print(caracter)\n",
    "        print(\"\\nCuadrado dibujado.\\n\")\n",
    "    if(selection==\"2\"):\n",
    "        print(\"Has seleccionado la opcion 2.\")\n",
    "    if(selection==\"3\"):\n",
    "        print(\"Has seleccionado la opcion 3.\")\n",
    "    if(selection==\"4\"):\n",
    "        alive= False\n",
    "        print(\"Has seleccionado la opcion 4.¡Adios!\")\n",
    "    if(selection!=\"1\" and selection!=\"2\" and selection!=\"3\" and selection!=\"4\"):\n",
    "        print(\"Seleccion \"+selection+\" no existe por favor intentelo de nuevo\")\n",
    "    \n",
    "    "
   ]
  },
  {
   "cell_type": "code",
   "execution_count": null,
   "id": "781cca98-43d6-41ef-934f-aeec1ac03c21",
   "metadata": {},
   "outputs": [],
   "source": []
  }
 ],
 "metadata": {
  "kernelspec": {
   "display_name": "Python 3 (ipykernel)",
   "language": "python",
   "name": "python3"
  },
  "language_info": {
   "codemirror_mode": {
    "name": "ipython",
    "version": 3
   },
   "file_extension": ".py",
   "mimetype": "text/x-python",
   "name": "python",
   "nbconvert_exporter": "python",
   "pygments_lexer": "ipython3",
   "version": "3.9.13"
  }
 },
 "nbformat": 4,
 "nbformat_minor": 5
}
