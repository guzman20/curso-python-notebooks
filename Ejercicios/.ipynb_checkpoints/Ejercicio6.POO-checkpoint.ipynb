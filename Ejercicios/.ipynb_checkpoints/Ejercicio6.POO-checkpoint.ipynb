{
 "cells": [
  {
   "cell_type": "markdown",
   "metadata": {},
   "source": [
    "# Ejercicio 6. Programacion Orientada Objetos"
   ]
  },
  {
   "cell_type": "markdown",
   "metadata": {},
   "source": [
    "**Crear la clase Alumno**  \n",
    "-nombre  \n",
    "-apellidos  \n",
    "-dni  \n",
    "-notas: diccionario <K:asignatura, V:nota>  \n",
    "estudiar() --> el alumno \"nombre\" esta estudiando \"asignatura obtenida de manera aleatoria del diccionario\"  \n",
    "    \n",
    "**Funcionalidad**    \n",
    "3 alumnos --> lista -->  \n",
    "    +Nota media de cada alumno --> El alumno <nombre> tiene una nota media de ...  \n",
    "    +Nota media de todos los alumnos --> La nota media de todos los alumnos es ...\n",
    "   \n",
    "Tradicional y usando funciones lambda\n"
   ]
  },
  {
   "cell_type": "code",
   "execution_count": 121,
   "metadata": {},
   "outputs": [],
   "source": [
    "import random\n",
    "from functools import reduce"
   ]
  },
  {
   "cell_type": "code",
   "execution_count": 117,
   "metadata": {},
   "outputs": [],
   "source": [
    "#Definimos la clase alumno\n",
    "class Alumno:\n",
    "    \n",
    "    def __init__(self, nombre, apellidos, dni, notas):\n",
    "        self.nombre= nombre\n",
    "        self.apellidos= apellidos\n",
    "        self.dni= dni\n",
    "        #TODO: control de que notas sea un diccionario\n",
    "        self.notas= notas\n",
    "    \n",
    "    #Metodo para devolver una asignatura aleatoria\n",
    "    def estudiar(self):\n",
    "        #Obtenemos el nombre de todas las asignaturas y las guardamos en una lista\n",
    "        lista_asignaturas=list(self.notas.keys())\n",
    "        #Con random generamos un numero aleatorio en un rango de longitud de la lista. No hace falta castear a un ya que radint lo da ya entero\n",
    "        asignatura_aleatoria=lista_asignaturas[random.randint(0, len(lista_asignaturas)-1)]\n",
    "        #Se imprime el resultado\n",
    "        print(\"El alumno \"+self.nombre+\" esta estudiando \"+asignatura_aleatoria)\n",
    "        \n",
    "        #Metedo que llama a la funcion media enviando la lista de las notas de todas las asignaturas\n",
    "    def media_notas(self):\n",
    "        lista_notas=list(self.notas.values())\n",
    "        return media(lista_notas)"
   ]
  },
  {
   "cell_type": "code",
   "execution_count": 118,
   "metadata": {},
   "outputs": [],
   "source": [
    "#Funcion para hacer medias con una lista dada\n",
    "def media(lista_numeros):\n",
    "    #Realizamos un sumatorio de todos los elementos de la lista con una funcion lambda y usamos reduce para que devuelva un unico resultado\n",
    "    sumatorio_lista= reduce(lambda x, y: x+y, lista_numeros)\n",
    "    #Realizamos otra funcion lambda para realizar la media con el sumatorio y la longitud de la lista\n",
    "    media=lambda numeros: sumatorio_lista/len(lista_numeros)\n",
    "    #Devolvemos el resultado redondeando con round a dos decimales\n",
    "    return round(media(sumatorio_lista), 2)"
   ]
  },
  {
   "cell_type": "code",
   "execution_count": 120,
   "metadata": {},
   "outputs": [
    {
     "name": "stdout",
     "output_type": "stream",
     "text": [
      "El alumno Pedro esta estudiando Ingles\n",
      "total 6.02\n"
     ]
    }
   ],
   "source": [
    "#Creamos los alumnos con los datos correspondientes\n",
    "alumno1= Alumno(\"Pedro\", \"Martinez de la vega\", \"32678466C\", {\"Lengua\":5.9, \"Matematicas\":7.1, \"Ingles\":4.56})\n",
    "alumno2= Alumno(\"Maria\", \"Gutierrez Gonzalez\", \"74147078T\", {\"Lengua\":9.21, \"Matematicas\":8.62, \"Ingles\":3.07})\n",
    "alumno3= Alumno(\"Tomas\", \"Moro Hernandez\", \"61473977Z\", {\"Lengua\":2.96, \"Matematicas\":4.87, \"Ingles\":7.9})\n",
    "\n",
    "#Los añadimos a una lista\n",
    "lista_alumnos=[alumno1,alumno2,alumno3]\n",
    "\n",
    "#Prueba de la funcion estudiar\n",
    "alumno1.estudiar()\n",
    "\n",
    "#Usamos una funcion lambda para generar las medias de cada alumno y lo aplicamos con list y map\n",
    "media_alumno= lambda x: x.media_notas()\n",
    "medias_alumnos= list(map(media_alumno, lista_alumnos))\n",
    "#Sacamos la media de las medias de los alumnos con la funcion media y las imprimimos por pantalla\n",
    "media_total= media(medias_alumnos)\n",
    "print(\"total \"+str(media_total))\n",
    "\n"
   ]
  },
  {
   "cell_type": "code",
   "execution_count": null,
   "metadata": {},
   "outputs": [],
   "source": []
  }
 ],
 "metadata": {
  "kernelspec": {
   "display_name": "Python 3 (ipykernel)",
   "language": "python",
   "name": "python3"
  },
  "language_info": {
   "codemirror_mode": {
    "name": "ipython",
    "version": 3
   },
   "file_extension": ".py",
   "mimetype": "text/x-python",
   "name": "python",
   "nbconvert_exporter": "python",
   "pygments_lexer": "ipython3",
   "version": "3.9.13"
  }
 },
 "nbformat": 4,
 "nbformat_minor": 4
}
