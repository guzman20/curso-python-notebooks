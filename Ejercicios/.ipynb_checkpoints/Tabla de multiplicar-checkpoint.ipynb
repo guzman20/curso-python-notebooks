{
 "cells": [
  {
   "cell_type": "code",
   "execution_count": null,
   "id": "d214cc6b-d8a5-4d49-8eb4-5c5872a21b40",
   "metadata": {},
   "outputs": [],
   "source": [
    "def dibujar_tabla_de_multiplicar():\n",
    "    numero= int(input(\"Inserte un numero\"))\n",
    "    for i in range(10):\n",
    "        print(numero+\" * {} = {}\".format(i,i*numero))"
   ]
  }
 ],
 "metadata": {
  "kernelspec": {
   "display_name": "Python 3 (ipykernel)",
   "language": "python",
   "name": "python3"
  },
  "language_info": {
   "codemirror_mode": {
    "name": "ipython",
    "version": 3
   },
   "file_extension": ".py",
   "mimetype": "text/x-python",
   "name": "python",
   "nbconvert_exporter": "python",
   "pygments_lexer": "ipython3",
   "version": "3.9.13"
  }
 },
 "nbformat": 4,
 "nbformat_minor": 5
}
