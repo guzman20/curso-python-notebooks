{
 "cells": [
  {
   "cell_type": "markdown",
   "metadata": {},
   "source": [
    "### Ejercicio 7. Composicion. Supermercado"
   ]
  },
  {
   "cell_type": "markdown",
   "metadata": {},
   "source": [
    "-Television  \n",
    "+id  \n",
    "+marca  \n",
    "+pulgadas  \n",
    "+precio\n",
    "\n",
    "-Ordenador  \n",
    "+id  \n",
    "+marca  \n",
    "+capacidad_disco_duro  \n",
    "+ram  \n",
    "+precio  \n",
    "\n",
    "-Monitor  \n",
    "+id  \n",
    "+marca  \n",
    "+pulgadas  \n",
    "+precio\n",
    "\n",
    "-Cliente  \n",
    "+nombre\n",
    "+tipo (VIP o no)\n",
    "+carrito_compra: listado[productos]\n",
    "+pagar()\n",
    "\n",
    "-Cajera  \n",
    "+numero_empleado  \n",
    "+nombre  \n",
    "+atender_cliente()  \n",
    "\n",
    "-Tienda  \n",
    "3 clientes\n",
    "2 cajeras  \n",
    "\n",
    "Cada cliente va llenar la cesta con uno o varios productos  \n",
    "\n",
    "cajeras van a ir atendiendo a los clientes  \n",
    "\n",
    "\n",
    "Si cliente es VIP, 15% en la compra"
   ]
  },
  {
   "cell_type": "code",
   "execution_count": 1,
   "metadata": {},
   "outputs": [],
   "source": [
    "import random"
   ]
  },
  {
   "cell_type": "code",
   "execution_count": 41,
   "metadata": {},
   "outputs": [],
   "source": [
    "class Television:\n",
    "    def __init__(self, id, marca, pulgadas, precio):\n",
    "        self.id=id\n",
    "        self.marca=marca\n",
    "        self.pulgadas=pulgadas\n",
    "        self.precio=precio\n",
    "\n",
    "class Ordenador:\n",
    "    def __init__(self, id, marca, capacidad_disco_duro, ram, precio):\n",
    "        self.id=id\n",
    "        self.marca=marca\n",
    "        self.capacidad_disco_duro=capacidad_disco_duro\n",
    "        self.ram=ram\n",
    "        self.precio=precio\n",
    "        \n",
    "class Monitor:\n",
    "    def __init__(self, id, marca, pulgadas, precio):\n",
    "        self.id=id\n",
    "        self.marca=marca\n",
    "        self.pulgadas=pulgadas\n",
    "        self.precio=precio\n",
    "    \n",
    "class Cliente:\n",
    "    def __init__(self, nombre, vip, carrito_compra):\n",
    "        self.nombre=nombre\n",
    "        self.vip=vip\n",
    "        self.carrito_compra=carrito_compra\n",
    "        \n",
    "    def pagar(self, precio):\n",
    "        if self.vip==True:\n",
    "            precio_descontado=precio-precio*0.15\n",
    "            return round(precio_descontado,2)\n",
    "        else:\n",
    "            return precio\n",
    "\n",
    "class Cajera:\n",
    "    def __init__(self, numero_empleado, nombre):\n",
    "        self.nombre=nombre\n",
    "        self.numero_empleado=numero_empleado\n",
    "        \n",
    "    def atender_cliente(self, cliente):\n",
    "        sumatorio=0\n",
    "        if len(cliente.carrito_compra)>0:\n",
    "            for producto in cliente.carrito_compra:\n",
    "                sumatorio+=producto.precio\n",
    "        return cliente.pagar(sumatorio)\n",
    "class Tienda:\n",
    "    def __init__(self,nombre , lista_cajeras, lista_clientes=[]):\n",
    "        self.nombre= nombre\n",
    "        self.lista_cajeras=lista_cajeras\n",
    "        self.lista_clientes=lista_clientes\n",
    "        \n",
    "    def addCliente(self,cliente):\n",
    "        self.lista_clientes.append(cliente)\n",
    "        \n",
    "    def addCajera(self,cajera):\n",
    "        self.lista_cajeras.append(cajera)\n",
    "        \n",
    "    def abrir(self):\n",
    "        for cliente in self.lista_clientes:\n",
    "            cajera=random.choice(self.lista_cajeras)\n",
    "            print(\"Atendid@ por \"+cajera.nombre+\" a don/doña \"+cliente.nombre+\" por la compra de \", end=\"\")\n",
    "            for producto in cliente.carrito_compra:\n",
    "                print(type(producto).__name__+\", \", end=\"\")\n",
    "            print(str(cajera.atender_cliente(cliente))+\" euros.\")"
   ]
  },
  {
   "cell_type": "code",
   "execution_count": 44,
   "metadata": {},
   "outputs": [
    {
     "name": "stdout",
     "output_type": "stream",
     "text": [
      "Atendid@ por Carlos Jose a don/doña Juan Carlos por la compra de Ordenador, Monitor, 1480.62 euros.\n",
      "Atendid@ por Carlos Jose a don/doña Maria por la compra de Television, 563.87 euros.\n",
      "Atendid@ por Carlos Jose a don/doña Pedro por la compra de Television, Monitor, 938.15 euros.\n"
     ]
    }
   ],
   "source": [
    "ordenador1= Ordenador(1, \"Asus\", \"1024GB\", \"32GB\", 1367.63)\n",
    "monitor1= Monitor(2, \"BENQ\", 15.6, 374.28)\n",
    "television1= Television(3, \"LGTV\", 25.4, 563.87)\n",
    "\n",
    "cliente1= Cliente(\"Juan Carlos\",True,[ordenador1, monitor1])\n",
    "cliente2= Cliente(\"Maria\", False, [television1])\n",
    "cliente3= Cliente(\"Pedro\", False,[television1, monitor1])\n",
    "\n",
    "cajera1= Cajera(1,\"Maria Dolores\")\n",
    "cajera2= Cajera(2,\"Carlos Jose\")\n",
    "\n",
    "tienda1= Tienda(\"Mercadona\", [cajera1,cajera2])\n",
    "\n",
    "tienda1.addCliente(cliente1)\n",
    "tienda1.addCliente(cliente2)\n",
    "tienda1.addCliente(cliente3)\n",
    "\n",
    "tienda1.abrir()"
   ]
  },
  {
   "cell_type": "code",
   "execution_count": null,
   "metadata": {},
   "outputs": [],
   "source": []
  }
 ],
 "metadata": {
  "kernelspec": {
   "display_name": "Python 3 (ipykernel)",
   "language": "python",
   "name": "python3"
  },
  "language_info": {
   "codemirror_mode": {
    "name": "ipython",
    "version": 3
   },
   "file_extension": ".py",
   "mimetype": "text/x-python",
   "name": "python",
   "nbconvert_exporter": "python",
   "pygments_lexer": "ipython3",
   "version": "3.9.13"
  }
 },
 "nbformat": 4,
 "nbformat_minor": 4
}
