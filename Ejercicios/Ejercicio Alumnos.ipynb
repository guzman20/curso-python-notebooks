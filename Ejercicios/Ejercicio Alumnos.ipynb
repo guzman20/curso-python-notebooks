{
 "cells": [
  {
   "cell_type": "code",
   "execution_count": 33,
   "id": "7d9615ba-b21a-447a-95d3-c46e86eed76c",
   "metadata": {},
   "outputs": [
    {
     "name": "stdout",
     "output_type": "stream",
     "text": [
      "¡Bienvenido usuario! Por favor seleccione una de las opciones.\n",
      "1.- Insertar alumno.\n",
      "2.- Mostrar alumnos del colegio.\n",
      "3.- Mostrar alumnos de un aula del colegio.\n",
      "4.- Buscar alumno.\n",
      "5.- Borrar alumno.\n",
      "6.- Salir.\n"
     ]
    },
    {
     "name": "stdin",
     "output_type": "stream",
     "text": [
      "Escriba del 1 al 6 para seleccionar. 1\n",
      "¿En que aula quiere insertar el alumno?(Opciones 1, 2 o 3) 1\n",
      "Escriba el DNI del alumno. 1\n",
      "Escriba el nombre del alumno. 1\n",
      "Escriba los apellidos del alumno. 1\n"
     ]
    },
    {
     "name": "stdout",
     "output_type": "stream",
     "text": [
      "¡Bienvenido usuario! Por favor seleccione una de las opciones.\n",
      "1.- Insertar alumno.\n",
      "2.- Mostrar alumnos del colegio.\n",
      "3.- Mostrar alumnos de un aula del colegio.\n",
      "4.- Buscar alumno.\n",
      "5.- Borrar alumno.\n",
      "6.- Salir.\n"
     ]
    },
    {
     "name": "stdin",
     "output_type": "stream",
     "text": [
      "Escriba del 1 al 6 para seleccionar. 5\n",
      "Indique el dni del alumno a borrar 1\n"
     ]
    },
    {
     "name": "stdout",
     "output_type": "stream",
     "text": [
      "1\n",
      "1\n",
      "{}\n"
     ]
    },
    {
     "ename": "KeyError",
     "evalue": "'1'",
     "output_type": "error",
     "traceback": [
      "\u001b[1;31m---------------------------------------------------------------------------\u001b[0m",
      "\u001b[1;31mKeyError\u001b[0m                                  Traceback (most recent call last)",
      "\u001b[1;32m~\\AppData\\Local\\Temp\\ipykernel_3532\\2411897366.py\u001b[0m in \u001b[0;36m<module>\u001b[1;34m\u001b[0m\n\u001b[0;32m     80\u001b[0m             \u001b[0maux\u001b[0m\u001b[1;33m=\u001b[0m\u001b[0mcolegio\u001b[0m\u001b[1;33m[\u001b[0m\u001b[0maula_numero\u001b[0m\u001b[1;33m]\u001b[0m\u001b[1;33m\u001b[0m\u001b[1;33m\u001b[0m\u001b[0m\n\u001b[0;32m     81\u001b[0m             \u001b[0mprint\u001b[0m\u001b[1;33m(\u001b[0m\u001b[0maux\u001b[0m\u001b[1;33m)\u001b[0m\u001b[1;33m\u001b[0m\u001b[1;33m\u001b[0m\u001b[0m\n\u001b[1;32m---> 82\u001b[1;33m             \u001b[1;32mdel\u001b[0m\u001b[1;33m(\u001b[0m\u001b[0maux\u001b[0m\u001b[1;33m[\u001b[0m\u001b[0mdni\u001b[0m\u001b[1;33m]\u001b[0m\u001b[1;33m)\u001b[0m\u001b[1;33m\u001b[0m\u001b[1;33m\u001b[0m\u001b[0m\n\u001b[0m\u001b[0;32m     83\u001b[0m             \u001b[0mcolegio\u001b[0m\u001b[1;33m[\u001b[0m\u001b[0maula_numero\u001b[0m\u001b[1;33m]\u001b[0m\u001b[1;33m=\u001b[0m\u001b[0maux\u001b[0m\u001b[1;33m\u001b[0m\u001b[1;33m\u001b[0m\u001b[0m\n\u001b[0;32m     84\u001b[0m             \u001b[0mprint\u001b[0m\u001b[1;33m(\u001b[0m\u001b[1;34m\"El alumno con el dni: \"\u001b[0m\u001b[1;33m+\u001b[0m\u001b[0mdni\u001b[0m\u001b[1;33m+\u001b[0m\u001b[1;34m\" ha sido borrado\"\u001b[0m\u001b[1;33m)\u001b[0m\u001b[1;33m\u001b[0m\u001b[1;33m\u001b[0m\u001b[0m\n",
      "\u001b[1;31mKeyError\u001b[0m: '1'"
     ]
    }
   ],
   "source": [
    "# Variable para controlar si sigue vivo el bucle while o se ha cerrado\n",
    "alive= True\n",
    "colegio=[{},{},{}]\n",
    "\n",
    "while(alive):\n",
    "    print(\"¡Bienvenido usuario! Por favor seleccione una de las opciones.\")\n",
    "    print(\"1.- Insertar alumno.\")\n",
    "    print(\"2.- Mostrar alumnos del colegio.\")\n",
    "    print(\"3.- Mostrar alumnos de un aula del colegio.\")\n",
    "    print(\"4.- Buscar alumno.\")\n",
    "    print(\"5.- Borrar alumno.\")\n",
    "    print(\"6.- Salir.\")\n",
    "    selection= input(\"Escriba del 1 al 6 para seleccionar.\")\n",
    "    if(selection==\"1\"):\n",
    "        aula=int(input(\"¿En que aula quiere insertar el alumno?(Opciones 1, 2 o 3)\"))\n",
    "        if(aula==1):\n",
    "            dni= input(\"Escriba el DNI del alumno.\")\n",
    "            nombre= input(\"Escriba el nombre del alumno.\")\n",
    "            apellidos= input(\"Escriba los apellidos del alumno.\")\n",
    "            colegio[0][dni]= [nombre, apellidos]\n",
    "        elif(aula==2):\n",
    "            dni= input(\"Escriba el DNI del alumno.\")\n",
    "            nombre= input(\"Escriba el nombre del alumno.\")\n",
    "            apellidos= input(\"Escriba los apellidos del alumno.\")\n",
    "            colegio[1][dni]= [nombre, apellidos]\n",
    "        elif(aula==3):\n",
    "            dni= input(\"Escriba el DNI del alumno.\")\n",
    "            nombre= input(\"Escriba el nombre del alumno.\")\n",
    "            apellidos= input(\"Escriba los apellidos del alumno.\")\n",
    "            colegio[2][dni]= [nombre, apellidos]\n",
    "        else:\n",
    "            print(\"El aula \"+aula+\" no existe\")\n",
    "    elif(selection==\"2\"):\n",
    "        for aula in colegio:\n",
    "            for alumno in aula:\n",
    "                print(aula[alumno][0]+\" \"+aula[alumno][1]+\" con el dni \"+alumno)\n",
    "    elif(selection==\"3\"):\n",
    "        aula=int(input(\"¿Que aula quiere mostrar?(Opciones 1, 2 o 3)\"))\n",
    "        if(aula==1):\n",
    "            aula=colegio[0]\n",
    "            for alumno in aula:\n",
    "                print(aula[alumno][0]+\" \"+aula[alumno][1]+\" con el dni \"+alumno)\n",
    "        elif(aula==2):\n",
    "            aula=colegio[1]\n",
    "            for alumno in aula:\n",
    "                print(aula[alumno][0]+\" \"+aula[alumno][1]+\" con el dni \"+alumno)\n",
    "        elif(aula==3):\n",
    "            aula=colegio[2]\n",
    "            for alumno in aula:\n",
    "                print(aula[alumno][0]+\" \"+aula[alumno][1]+\" con el dni \"+alumno)\n",
    "        else:\n",
    "            print(\"El aula \"+aula+\" no existe\")\n",
    "    elif(selection==\"4\"):\n",
    "        dni= input(\"Indique el dni del alumno a buscar\")\n",
    "        encontrado=False\n",
    "        for aula in colegio:\n",
    "            for alumno in aula:\n",
    "                if(alumno==dni):\n",
    "                    print(\"El alumno con el dni: \"+dni+\" se encuentra en el aula \"+aula)\n",
    "                    encontrado=True\n",
    "        if not (encontrado):\n",
    "            print(\"El dni: \"+dni+\" no se correcponde al de ningun alumno\")\n",
    "    elif(selection==\"5\"):\n",
    "        dni= input(\"Indique el dni del alumno a borrar\")\n",
    "        aula_numero=0\n",
    "        encontrado=False\n",
    "        for aula in colegio:\n",
    "            if not(encontrado):\n",
    "                for alumno in aula:\n",
    "                    if(str(alumno)==dni):\n",
    "                        aula_alumno=aula\n",
    "                        encontrado=True\n",
    "                        break\n",
    "                aula_numero+=1\n",
    "            else:\n",
    "                break\n",
    "        if (encontrado):\n",
    "            print(aula_numero)\n",
    "            aux=colegio[aula_numero]\n",
    "            print(aux)\n",
    "            del(aux[dni])\n",
    "            colegio[aula_numero]=aux\n",
    "            print(\"El alumno con el dni: \"+dni+\" ha sido borrado\")\n",
    "        else:\n",
    "            print(\"El dni: \"+dni+\" no se correcponde al de ningun alumno\")\n",
    "    elif(selection==\"6\"):\n",
    "        alive= False\n",
    "        print(\"Has seleccionado la opcion 6.¡Adios!\")\n",
    "    else:\n",
    "        print(\"Seleccion \"+selection+\" no existe por favor intentelo de nuevo\")\n",
    "    \n",
    "    "
   ]
  },
  {
   "cell_type": "code",
   "execution_count": null,
   "id": "90a951b2-647a-406d-b5e4-cf84c7d4f62a",
   "metadata": {},
   "outputs": [],
   "source": []
  }
 ],
 "metadata": {
  "kernelspec": {
   "display_name": "Python 3 (ipykernel)",
   "language": "python",
   "name": "python3"
  },
  "language_info": {
   "codemirror_mode": {
    "name": "ipython",
    "version": 3
   },
   "file_extension": ".py",
   "mimetype": "text/x-python",
   "name": "python",
   "nbconvert_exporter": "python",
   "pygments_lexer": "ipython3",
   "version": "3.9.13"
  }
 },
 "nbformat": 4,
 "nbformat_minor": 5
}
